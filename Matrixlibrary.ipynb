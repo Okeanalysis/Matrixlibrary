{
 "cells": [
  {
   "cell_type": "code",
   "execution_count": null,
   "id": "f15f50e8-1f3a-4287-9920-2a7f58abec67",
   "metadata": {},
   "outputs": [
    {
     "name": "stdout",
     "output_type": "stream",
     "text": [
      "Matrix Operations Library\n",
      "\n",
      "Menu:\n",
      "1. Matrix Addition\n",
      "2. Matrix Subtraction\n",
      "3. Matrix Multiplication\n",
      "4. Matrix Transpose\n",
      "5. Matrix Determinant\n",
      "6. Matrix Inverse\n",
      "7. Exit\n"
     ]
    },
    {
     "name": "stdin",
     "output_type": "stream",
     "text": [
      "\n",
      "Select an operation (1-7):  1\n"
     ]
    },
    {
     "name": "stdout",
     "output_type": "stream",
     "text": [
      "\n",
      "Matrix Addition\n",
      "Enter first matrix:\n"
     ]
    },
    {
     "name": "stdin",
     "output_type": "stream",
     "text": [
      "Enter the number of rows:  2\n",
      "Enter the number of columns:  3\n"
     ]
    },
    {
     "name": "stdout",
     "output_type": "stream",
     "text": [
      "Enter the matrix elements row-wise (separated by spaces):\n"
     ]
    },
    {
     "name": "stdin",
     "output_type": "stream",
     "text": [
      " 2 3 4 4 5 6\n"
     ]
    },
    {
     "name": "stdout",
     "output_type": "stream",
     "text": [
      "Error: Expected 3 columns, but got 6.\n",
      "Enter second matrix:\n"
     ]
    },
    {
     "name": "stdin",
     "output_type": "stream",
     "text": [
      "Enter the number of rows:  2\n",
      "Enter the number of columns:  3\n"
     ]
    },
    {
     "name": "stdout",
     "output_type": "stream",
     "text": [
      "Enter the matrix elements row-wise (separated by spaces):\n"
     ]
    },
    {
     "name": "stdin",
     "output_type": "stream",
     "text": [
      " 2 3 4\n",
      " 4 5 6\n"
     ]
    },
    {
     "name": "stdout",
     "output_type": "stream",
     "text": [
      "\n",
      "Menu:\n",
      "1. Matrix Addition\n",
      "2. Matrix Subtraction\n",
      "3. Matrix Multiplication\n",
      "4. Matrix Transpose\n",
      "5. Matrix Determinant\n",
      "6. Matrix Inverse\n",
      "7. Exit\n"
     ]
    },
    {
     "name": "stdin",
     "output_type": "stream",
     "text": [
      "\n",
      "Select an operation (1-7):  1\n"
     ]
    },
    {
     "name": "stdout",
     "output_type": "stream",
     "text": [
      "\n",
      "Matrix Addition\n",
      "Enter first matrix:\n"
     ]
    },
    {
     "name": "stdin",
     "output_type": "stream",
     "text": [
      "Enter the number of rows:  2\n",
      "Enter the number of columns:  3\n"
     ]
    },
    {
     "name": "stdout",
     "output_type": "stream",
     "text": [
      "Enter the matrix elements row-wise (separated by spaces):\n"
     ]
    },
    {
     "name": "stdin",
     "output_type": "stream",
     "text": [
      " 2 3 4\n",
      " 4 5 6\n"
     ]
    },
    {
     "name": "stdout",
     "output_type": "stream",
     "text": [
      "Enter second matrix:\n"
     ]
    },
    {
     "name": "stdin",
     "output_type": "stream",
     "text": [
      "Enter the number of rows:  2\n",
      "Enter the number of columns:  3\n"
     ]
    },
    {
     "name": "stdout",
     "output_type": "stream",
     "text": [
      "Enter the matrix elements row-wise (separated by spaces):\n"
     ]
    },
    {
     "name": "stdin",
     "output_type": "stream",
     "text": [
      " 2 3 3\n",
      " 2 3 3\n"
     ]
    },
    {
     "name": "stdout",
     "output_type": "stream",
     "text": [
      "Result of Addition:\n",
      " [[4. 6. 7.]\n",
      " [6. 8. 9.]]\n",
      "\n",
      "Menu:\n",
      "1. Matrix Addition\n",
      "2. Matrix Subtraction\n",
      "3. Matrix Multiplication\n",
      "4. Matrix Transpose\n",
      "5. Matrix Determinant\n",
      "6. Matrix Inverse\n",
      "7. Exit\n"
     ]
    }
   ],
   "source": [
    "import numpy as np\n",
    "\n",
    "def get_matrix_input():\n",
    "    \"\"\"Function to take matrix input from the user.\"\"\"\n",
    "    rows = int(input(\"Enter the number of rows: \"))\n",
    "    cols = int(input(\"Enter the number of columns: \"))\n",
    "    print(\"Enter the matrix elements row-wise (separated by spaces):\")\n",
    "    matrix = []\n",
    "    for _ in range(rows):\n",
    "        row = list(map(float, input().split()))\n",
    "        if len(row) != cols:\n",
    "            print(f\"Error: Expected {cols} columns, but got {len(row)}.\")\n",
    "            return None\n",
    "        matrix.append(row)\n",
    "    return np.array(matrix)\n",
    "\n",
    "def matrix_operations():\n",
    "    \"\"\"Function to perform matrix operations based on user input.\"\"\"\n",
    "    print(\"Matrix Operations Library\")\n",
    "    \n",
    "    while True:\n",
    "        print(\"\\nMenu:\")\n",
    "        print(\"1. Matrix Addition\")\n",
    "        print(\"2. Matrix Subtraction\")\n",
    "        print(\"3. Matrix Multiplication\")\n",
    "        print(\"4. Matrix Transpose\")\n",
    "        print(\"5. Matrix Determinant\")\n",
    "        print(\"6. Matrix Inverse\")\n",
    "        print(\"7. Exit\")\n",
    "        \n",
    "        choice = input(\"\\nSelect an operation (1-7): \")\n",
    "        \n",
    "        if choice == '1':\n",
    "            print(\"\\nMatrix Addition\")\n",
    "            print(\"Enter first matrix:\")\n",
    "            matrix1 = get_matrix_input()\n",
    "            print(\"Enter second matrix:\")\n",
    "            matrix2 = get_matrix_input()\n",
    "            if matrix1 is not None and matrix2 is not None:\n",
    "                if matrix1.shape == matrix2.shape:\n",
    "                    print(\"Result of Addition:\\n\", matrix1 + matrix2)\n",
    "                else:\n",
    "                    print(\"Error: Matrices must be of the same size for addition.\")\n",
    "        \n",
    "        elif choice == '2':\n",
    "            print(\"\\nMatrix Subtraction\")\n",
    "            print(\"Enter first matrix:\")\n",
    "            matrix1 = get_matrix_input()\n",
    "            print(\"Enter second matrix:\")\n",
    "            matrix2 = get_matrix_input()\n",
    "            if matrix1 is not None and matrix2 is not None:\n",
    "                if matrix1.shape == matrix2.shape:\n",
    "                    print(\"Result of Subtraction:\\n\", matrix1 - matrix2)\n",
    "                else:\n",
    "                    print(\"Error: Matrices must be of the same size for subtraction.\")\n",
    "        \n",
    "        elif choice == '3':\n",
    "            print(\"\\nMatrix Multiplication\")\n",
    "            print(\"Enter first matrix:\")\n",
    "            matrix1 = get_matrix_input()\n",
    "            print(\"Enter second matrix:\")\n",
    "            matrix2 = get_matrix_input()\n",
    "            if matrix1 is not None and matrix2 is not None:\n",
    "                if matrix1.shape[1] == matrix2.shape[0]:\n",
    "                    print(\"Result of Multiplication:\\n\", np.dot(matrix1, matrix2))\n",
    "                else:\n",
    "                    print(\"Error: Number of columns in the first matrix must equal the number of rows in the second matrix.\")\n",
    "        \n",
    "        elif choice == '4':\n",
    "            print(\"\\nMatrix Transpose\")\n",
    "            print(\"Enter a matrix:\")\n",
    "            matrix = get_matrix_input()\n",
    "            if matrix is not None:\n",
    "                print(\"Transpose of the matrix:\\n\", np.transpose(matrix))\n",
    "        \n",
    "        elif choice == '5':\n",
    "            print(\"\\nMatrix Determinant\")\n",
    "            print(\"Enter a square matrix:\")\n",
    "            matrix = get_matrix_input()\n",
    "            if matrix is not None:\n",
    "                if matrix.shape[0] == matrix.shape[1]:\n",
    "                    print(\"Determinant of the matrix:\", np.linalg.det(matrix))\n",
    "                else:\n",
    "                    print(\"Error: Matrix must be square (n x n) to calculate the determinant.\")\n",
    "        \n",
    "        elif choice == '6':\n",
    "            print(\"\\nMatrix Inverse\")\n",
    "            print(\"Enter a square matrix:\")\n",
    "            matrix = get_matrix_input()\n",
    "            if matrix is not None:\n",
    "                if matrix.shape[0] == matrix.shape[1]:\n",
    "                    try:\n",
    "                        print(\"Inverse of the matrix:\\n\", np.linalg.inv(matrix))\n",
    "                    except np.linalg.LinAlgError:\n",
    "                        print(\"Error: Matrix is singular and cannot be inverted.\")\n",
    "                else:\n",
    "                    print(\"Error: Matrix must be square (n x n) to calculate the inverse.\")\n",
    "        \n",
    "        elif choice == '7':\n",
    "            print(\"Exiting...\")\n",
    "            break\n",
    "        \n",
    "        else:\n",
    "            print(\"Invalid choice! Please select a valid operation (1-7).\")\n",
    "\n",
    "if __name__ == \"__main__\":\n",
    "    matrix_operations()\n"
   ]
  },
  {
   "cell_type": "code",
   "execution_count": null,
   "id": "66d64234-eeb2-40d8-954e-627b6b34fe5e",
   "metadata": {},
   "outputs": [],
   "source": []
  }
 ],
 "metadata": {
  "kernelspec": {
   "display_name": "Python 3 (ipykernel)",
   "language": "python",
   "name": "python3"
  },
  "language_info": {
   "codemirror_mode": {
    "name": "ipython",
    "version": 3
   },
   "file_extension": ".py",
   "mimetype": "text/x-python",
   "name": "python",
   "nbconvert_exporter": "python",
   "pygments_lexer": "ipython3",
   "version": "3.12.4"
  }
 },
 "nbformat": 4,
 "nbformat_minor": 5
}
